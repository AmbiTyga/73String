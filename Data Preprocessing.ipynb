{
  "nbformat": 4,
  "nbformat_minor": 0,
  "metadata": {
    "colab": {
      "name": "25GB - Colab",
      "provenance": [],
      "collapsed_sections": [],
      "toc_visible": true,
      "machine_shape": "hm",
      "include_colab_link": true
    },
    "kernelspec": {
      "name": "python3",
      "display_name": "Python 3"
    }
  },
  "cells": [
    {
      "cell_type": "markdown",
      "metadata": {
        "id": "view-in-github",
        "colab_type": "text"
      },
      "source": [
        "<a href=\"https://colab.research.google.com/github/AmbiTyga/73String/blob/main/Data%20Preprocessing.ipynb\" target=\"_parent\"><img src=\"https://colab.research.google.com/assets/colab-badge.svg\" alt=\"Open In Colab\"/></a>"
      ]
    },
    {
      "cell_type": "code",
      "metadata": {
        "id": "W6tcnzlc5v3H",
        "colab": {
          "base_uri": "https://localhost:8080/"
        },
        "outputId": "c20b9c9b-cb12-4d6d-a529-6332189853c9"
      },
      "source": [
        "import nltk\r\n",
        "nltk.download('stopwords')"
      ],
      "execution_count": 1,
      "outputs": [
        {
          "output_type": "stream",
          "text": [
            "[nltk_data] Downloading package stopwords to /root/nltk_data...\n",
            "[nltk_data]   Unzipping corpora/stopwords.zip.\n"
          ],
          "name": "stdout"
        },
        {
          "output_type": "execute_result",
          "data": {
            "text/plain": [
              "True"
            ]
          },
          "metadata": {
            "tags": []
          },
          "execution_count": 1
        }
      ]
    },
    {
      "cell_type": "code",
      "metadata": {
        "id": "Qb49crQkUaDi"
      },
      "source": [
        "!pip install scrapy -q\r\n",
        "import re\r\n",
        "from tqdm import tqdm\r\n",
        "import pandas as pd\r\n",
        "import numpy as np\r\n",
        "from w3lib.html import remove_tags\r\n",
        "import requests\r\n",
        "from scrapy.selector import Selector\r\n",
        "from nltk.corpus import stopwords\r\n",
        "import matplotlib.pyplot as plt\r\n",
        "import seaborn as sns\r\n",
        "STOPWORDS = stopwords.words('english')"
      ],
      "execution_count": 13,
      "outputs": []
    },
    {
      "cell_type": "code",
      "metadata": {
        "id": "yHHE55F8wodK",
        "colab": {
          "base_uri": "https://localhost:8080/"
        },
        "outputId": "2510c64b-4188-4dea-967c-5454dcd28dd7"
      },
      "source": [
        "!wget http://nlp.stanford.edu/data/glove.840B.300d.zip"
      ],
      "execution_count": null,
      "outputs": [
        {
          "output_type": "stream",
          "text": [
            "--2021-02-13 04:33:16--  http://nlp.stanford.edu/data/glove.840B.300d.zip\n",
            "Resolving nlp.stanford.edu (nlp.stanford.edu)... 171.64.67.140\n",
            "Connecting to nlp.stanford.edu (nlp.stanford.edu)|171.64.67.140|:80... connected.\n",
            "HTTP request sent, awaiting response... 302 Found\n",
            "Location: https://nlp.stanford.edu/data/glove.840B.300d.zip [following]\n",
            "--2021-02-13 04:33:16--  https://nlp.stanford.edu/data/glove.840B.300d.zip\n",
            "Connecting to nlp.stanford.edu (nlp.stanford.edu)|171.64.67.140|:443... connected.\n",
            "HTTP request sent, awaiting response... 301 Moved Permanently\n",
            "Location: http://downloads.cs.stanford.edu/nlp/data/glove.840B.300d.zip [following]\n",
            "--2021-02-13 04:33:17--  http://downloads.cs.stanford.edu/nlp/data/glove.840B.300d.zip\n",
            "Resolving downloads.cs.stanford.edu (downloads.cs.stanford.edu)... 171.64.64.22\n",
            "Connecting to downloads.cs.stanford.edu (downloads.cs.stanford.edu)|171.64.64.22|:80... connected.\n",
            "HTTP request sent, awaiting response... 200 OK\n",
            "Length: 2176768927 (2.0G) [application/zip]\n",
            "Saving to: ‘glove.840B.300d.zip.1’\n",
            "\n",
            "glove.840B.300d.zip 100%[===================>]   2.03G  1.76MB/s    in 17m 19s \n",
            "\n",
            "2021-02-13 04:50:36 (2.00 MB/s) - ‘glove.840B.300d.zip.1’ saved [2176768927/2176768927]\n",
            "\n"
          ],
          "name": "stdout"
        }
      ]
    },
    {
      "cell_type": "code",
      "metadata": {
        "id": "2L6eKeFXpBgD",
        "colab": {
          "base_uri": "https://localhost:8080/"
        },
        "outputId": "db822feb-8ee1-4cbf-ef26-c920864661d9"
      },
      "source": [
        "!unzip glove.840B.300d.zip"
      ],
      "execution_count": 4,
      "outputs": [
        {
          "output_type": "stream",
          "text": [
            "Archive:  glove.840B.300d.zip\n",
            "  inflating: glove.840B.300d.txt     \n"
          ],
          "name": "stdout"
        }
      ]
    },
    {
      "cell_type": "markdown",
      "metadata": {
        "id": "G1NQkO9FsBv3"
      },
      "source": [
        "# Preprocessing"
      ]
    },
    {
      "cell_type": "code",
      "metadata": {
        "id": "rgyI2nh54OIZ"
      },
      "source": [
        "import json, operator\r\n",
        "def load_embed(file):\r\n",
        "  '''\r\n",
        "  Loads GLoVe embeddings\r\n",
        "  file -> path to glove embeddings\r\n",
        "  load_embed(...) -> Dict()\r\n",
        "  '''\r\n",
        "  def get_coefs(word,*arr): \r\n",
        "      return word, np.asarray(arr, dtype='float32')\r\n",
        "  \r\n",
        "  if file == '../input/embeddings/wiki-news-300d-1M/wiki-news-300d-1M.vec':\r\n",
        "      embeddings_index = dict(get_coefs(*o.split(\" \")) for o in open(file) if len(o)>100)\r\n",
        "  else:\r\n",
        "      embeddings_index = dict(get_coefs(*o.split(\" \")) for o in open(file, encoding='latin'))\r\n",
        "      \r\n",
        "  return embeddings_index\r\n",
        "  \r\n",
        "def build_vocab(texts):\r\n",
        "  '''\r\n",
        "  Creates a vocabulary from the given corpus\r\n",
        "  texts -> pandas Series object\r\n",
        "  build_vocab(...) -> Dict()\r\n",
        "  '''\r\n",
        "  sentences = texts.str.split().values\r\n",
        "  vocab = {}\r\n",
        "  for sentence in sentences:\r\n",
        "      for word in sentence:\r\n",
        "          try:\r\n",
        "              vocab[word] += 1\r\n",
        "          except KeyError:\r\n",
        "              vocab[word] = 1\r\n",
        "  return vocab\r\n",
        "\r\n",
        "# Checks how many words present in embeddings wrt dataset\r\n",
        "def check_coverage(vocab, embeddings_index):\r\n",
        "  '''\r\n",
        "  Checks the vocabulary from the given corpus with GLoVE data\r\n",
        "  Returns out of vocabulary words from corpus that are not present in GLoVE data\r\n",
        "  '''\r\n",
        "  known_words = {}\r\n",
        "  unknown_words = {}\r\n",
        "  nb_known_words = 0\r\n",
        "  nb_unknown_words = 0\r\n",
        "  for word in vocab.keys():\r\n",
        "      try:\r\n",
        "          known_words[word] = embeddings_index[word]\r\n",
        "          nb_known_words += vocab[word]\r\n",
        "      except:\r\n",
        "          unknown_words[word] = vocab[word]\r\n",
        "          nb_unknown_words += vocab[word]\r\n",
        "          pass\r\n",
        "\r\n",
        "  print('Found embeddings for {:.3%} of vocab'.format(len(known_words) / len(vocab)))\r\n",
        "  print('Found embeddings for  {:.3%} of all text'.format(nb_known_words / (nb_known_words + nb_unknown_words)))\r\n",
        "  unknown_words = sorted(unknown_words.items(), key=operator.itemgetter(1))[::-1]\r\n",
        "  unknown_words = pd.DataFrame(unknown_words,columns=['Word','Count'])\r\n",
        "  return unknown_words"
      ],
      "execution_count": 16,
      "outputs": []
    },
    {
      "cell_type": "code",
      "metadata": {
        "id": "bRxDotBisXLK"
      },
      "source": [
        "def clean(sentence):\r\n",
        "  '''\r\n",
        "  Removes unnecessary characters from the string\r\n",
        "  And replaces the acronyms from business terms\r\n",
        "  sentence -> str\r\n",
        "  clean(...) -> str\r\n",
        "  '''\r\n",
        "  sentence = re.sub(r\"\\bcorp\\b\\.?\",'corporation',sentence,flags = re.I)\r\n",
        "  sentence = re.sub(r\"\\bltd\\b\\.?\",'Limited',sentence,flags = re.I)\r\n",
        "  sentence = re.sub(r\"\\bInc\\b\\.?\",'incorporation',sentence,flags = re.I)\r\n",
        "  sentence = re.sub(r\"\\bco\\b\\.?\",'company',sentence,flags = re.I)\r\n",
        "  sentence = re.sub(r\"\\bs\\.?p\\.?a\\b\\.?\",'sales and purchase agreement',sentence,flags = re.I)\r\n",
        "  sentence = re.sub(r\"\\bASA\\b\\.?\",'Advertising and Selling Association',sentence,flags = re.I)\r\n",
        "  sentence = re.sub(r\"\\bSA\\b\\.?\",'corporation',sentence,flags = re.I)\r\n",
        "  sentence = re.sub(r\"\\bPLC\\b\\.?\",'Public Limited Company',sentence,flags = re.I)\r\n",
        "  sentence = re.sub(r\"\\bAB\\b\\.?\",'Aktiebolag',sentence,flags = re.I)\r\n",
        "  sentence = re.sub(r\"\\bAG\\b\\.?\",'Aktiengesellschaft',sentence,flags = re.I)\r\n",
        "  sentence = re.sub(r\"\\be-\",'electronic ',sentence,flags = re.I)\r\n",
        "  \r\n",
        "  \r\n",
        "  sentence = re.sub(r'(â€™s)',\"'\",sentence,flags = re.I)\r\n",
        "  sentence = re.sub(r'Â',\"\",sentence,flags = re.I)\r\n",
        "  sentence = re.sub(r'\\%',\" percent\",sentence,flags = re.I)\r\n",
        "  sentence = re.sub(r'\\#',\"Number \",sentence,flags = re.I)\r\n",
        "  sentence = re.sub(r'(a-zA-Z0-9)?(\\.)(a-zA-Z0-9)?',' ',sentence,flags = re.I)\r\n",
        "  sentence = re.sub(r'\\b(\\w+)( \\1\\b)+',r'\\1', sentence)\r\n",
        "  \r\n",
        "  \r\n",
        "  sentence = re.sub(r'-',\" \",sentence,flags = re.I)\r\n",
        "  sentence = re.sub(r'[,!?\\'\\:\\(\\)\\/;]','',sentence)\r\n",
        "  sentence = re.sub(r'\\s+',\" \",sentence)\r\n",
        "\r\n",
        "  return sentence\r\n",
        "\r\n",
        "  \r\n",
        "\r\n",
        "def inc_info(keywords):\r\n",
        "  '''\r\n",
        "  The function googles the keywords, and returns the details from Knowledge Graph panel of Google. \r\n",
        "  '''\r\n",
        "  keywords = keywords.replace(\" \",'+')\r\n",
        "  url = f'https://www.google.com/search?&q={keywords}'\r\n",
        "\r\n",
        "  req = requests.get(url,\r\n",
        "                   headers= {'User-agent':'Mozilla/5.0 (Windows NT 10.0; Win64; x64) AppleWebKit/537.36 (KHTML, like Gecko) Chrome/88.0.4324.150 Safari/537.36'})\r\n",
        "  details_with_tags = Selector(text = req.text).css('span.hgKElc').get()\r\n",
        "\r\n",
        "  if not details_with_tags:\r\n",
        "    details_with_tags = Selector(text = req.text).css('div.kno-rdesc span').get()\r\n",
        "\r\n",
        "  if details_with_tags:\r\n",
        "    details = remove_tags(details_with_tags)\r\n",
        "    return details\r\n",
        "\r\n",
        "def change_term(df):\r\n",
        "  '''\r\n",
        "  The function changes name in the description with a common word -> Company\r\n",
        "  '''\r\n",
        "  name,description = df['Company Name'], df['Short Description']\r\n",
        "  desc = []\r\n",
        "  for i,j in zip(name,description):\r\n",
        "    if i.lower() in j.lower():\r\n",
        "      j = re.sub(r'\\b{name}\\b'.format(name = i),'Company',j,flags = re.I)\r\n",
        "      desc.append(j)\r\n",
        "    else:\r\n",
        "      desc.append(j)\r\n",
        "  return desc"
      ],
      "execution_count": 17,
      "outputs": []
    },
    {
      "cell_type": "code",
      "metadata": {
        "id": "KpxrzNo57T5m"
      },
      "source": [
        "glove = load_embed(\"/content/glove.840B.300d.txt\")"
      ],
      "execution_count": 7,
      "outputs": []
    },
    {
      "cell_type": "markdown",
      "metadata": {
        "id": "I3GH1SkVyqfR"
      },
      "source": [
        "## Loading and Basic Processing"
      ]
    },
    {
      "cell_type": "code",
      "metadata": {
        "id": "mS0a3km_sBeX"
      },
      "source": [
        "train = pd.read_excel(\"/content/Training_Data.01 (1).xlsx\")\r\n",
        "test = pd.read_excel(\"/content/Testing_Data_2_ (1).xlsx\")\r\n",
        "train.drop_duplicates('Business Description',inplace=True,ignore_index=True)\r\n"
      ],
      "execution_count": 15,
      "outputs": []
    },
    {
      "cell_type": "markdown",
      "metadata": {
        "id": "THpx6fYDING-"
      },
      "source": [
        "### Filling N/A values"
      ]
    },
    {
      "cell_type": "code",
      "metadata": {
        "id": "P-4GXuGqaWxb"
      },
      "source": [
        "train['Business Description'].fillna(train[train['Business Description'].isna()]['Company Name'].apply(inc_info),inplace = True)"
      ],
      "execution_count": 19,
      "outputs": []
    },
    {
      "cell_type": "code",
      "metadata": {
        "colab": {
          "base_uri": "https://localhost:8080/",
          "height": 221
        },
        "id": "ZmNMM65XGIZQ",
        "outputId": "b8d380c3-9c0c-4400-999f-cd56bc9c1ee3"
      },
      "source": [
        "plt.figure(figsize=(5,2))\r\n",
        "ax = sns.barplot(y = ['train','test'],\r\n",
        "         x = [train['Business Description'].isna().sum(),\r\n",
        "              test['Business Description'].isna().sum()])\r\n",
        "ax.set_xlabel('Counts')\r\n",
        "ax.set_ylabel('Dataset')\r\n",
        "ax.set_title('Count of N/A')\r\n",
        "plt.show()\r\n",
        "print(f\"train:{train['Business Description'].isna().sum()}\\ntest:{test['Business Description'].isna().sum()}\")\r\n",
        "# test['Business Description'].isna().sum()"
      ],
      "execution_count": 20,
      "outputs": [
        {
          "output_type": "display_data",
          "data": {
            "image/png": "[encoded data removed]",
            "text/plain": [
              "<Figure size 360x144 with 1 Axes>"
            ]
          },
          "metadata": {
            "tags": [],
            "needs_background": "light"
          }
        },
        {
          "output_type": "stream",
          "text": [
            "train:0\n",
            "test:0\n"
          ],
          "name": "stdout"
        }
      ]
    },
    {
      "cell_type": "markdown",
      "metadata": {
        "id": "OVycSLUQIXhF"
      },
      "source": [
        "> We have now retrieved the rest 23 datapoints as well"
      ]
    },
    {
      "cell_type": "code",
      "metadata": {
        "id": "AXGyVs3iF_yD"
      },
      "source": [
        "train.dropna(inplace = True)"
      ],
      "execution_count": 21,
      "outputs": []
    },
    {
      "cell_type": "markdown",
      "metadata": {
        "id": "bz8wzHt3ynwv"
      },
      "source": [
        "## Train Preprocessing"
      ]
    },
    {
      "cell_type": "code",
      "metadata": {
        "id": "CTuLiWmWuU0d"
      },
      "source": [
        "train['Short Description'] = train['Business Description'].apply(clean)\r\n",
        "train['Company Name'] = train['Company Name'].apply(clean)"
      ],
      "execution_count": 22,
      "outputs": []
    },
    {
      "cell_type": "code",
      "metadata": {
        "id": "9MqZkdxGIUou"
      },
      "source": [
        "train['Short Description'] = train['Short Description'].apply(lambda x: ' '.join([item for item in x.split() if item not in STOPWORDS]))\r\n",
        "train['Short Description'] = change_term(train)"
      ],
      "execution_count": 23,
      "outputs": []
    },
    {
      "cell_type": "code",
      "metadata": {
        "id": "BYi3sD4AFQ9x"
      },
      "source": [
        "train['Short Description'] = train['Short Description'].apply(lambda x: ' '.join([\"UnkW\" if item not in glove else item for item in x.split()]))\r\n",
        "train['Short Description'] = train['Short Description'].str.replace(r'\\b(\\w+)( \\1\\b)+',r'\\1')\r\n",
        "train['Short Description'] = train['Short Description'].str.replace(r'\\bUnkW\\b','<OOV>')\r\n",
        "train[['Industry Classification Tag','Short Description']].to_csv('train.csv',index = False)"
      ],
      "execution_count": 24,
      "outputs": []
    },
    {
      "cell_type": "code",
      "metadata": {
        "id": "cCRfHhVKykYS",
        "outputId": "13436783-097b-40ad-f1a8-b3b99bfa36b3",
        "colab": {
          "base_uri": "https://localhost:8080/",
          "height": 282
        }
      },
      "source": [
        "data = train.copy()\r\n",
        "data['short_words_count'] = data['Short Description'].str.split().apply(lambda x:len(x))\r\n",
        "data['short_words_count'].plot.hist()"
      ],
      "execution_count": 25,
      "outputs": [
        {
          "output_type": "execute_result",
          "data": {
            "text/plain": [
              "<matplotlib.axes._subplots.AxesSubplot at 0x7fe1d87889b0>"
            ]
          },
          "metadata": {
            "tags": []
          },
          "execution_count": 25
        },
        {
          "output_type": "display_data",
          "data": {
            "image/png": "[encoded data removed]",
            "text/plain": [
              "<Figure size 432x288 with 1 Axes>"
            ]
          },
          "metadata": {
            "tags": [],
            "needs_background": "light"
          }
        }
      ]
    },
    {
      "cell_type": "markdown",
      "metadata": {
        "id": "pCw3PshZykqb"
      },
      "source": [
        "## Test Preprocessing"
      ]
    },
    {
      "cell_type": "code",
      "metadata": {
        "id": "SDaN3UyLuZEN"
      },
      "source": [
        "test['Short Description'] = test['Business Description'].apply(clean)\r\n",
        "test['Company Name'] = test['Company '].apply(clean)"
      ],
      "execution_count": 26,
      "outputs": []
    },
    {
      "cell_type": "code",
      "metadata": {
        "id": "tMOIvtCW-oG0"
      },
      "source": [
        "test['Short Description'] = test['Short Description'].apply(lambda x: ' '.join([item for item in x.split() if item not in STOPWORDS]))\r\n",
        "test['Short Description'] = change_term(test)"
      ],
      "execution_count": 27,
      "outputs": []
    },
    {
      "cell_type": "code",
      "metadata": {
        "id": "Wj3H421b-oG0"
      },
      "source": [
        "test['Short Description'] = test['Short Description'].apply(lambda x: ' '.join([\"UnkW\" if item not in glove else item for item in x.split()]))\r\n",
        "test['Short Description'] = test['Short Description'].str.replace(r'\\b(\\w+)( \\1\\b)+',r'\\1')\r\n",
        "test['Short Description'] = test['Short Description'].str.replace(r'\\bUnkW\\b','<OOV>')\r\n",
        "test[['Company Name','Short Description']].to_csv('test.csv',index = False)"
      ],
      "execution_count": 28,
      "outputs": []
    },
    {
      "cell_type": "markdown",
      "metadata": {
        "id": "oMfecQyfISKJ"
      },
      "source": [
        "# Checking Coverage"
      ]
    },
    {
      "cell_type": "code",
      "metadata": {
        "id": "CjmZCOeuus_a"
      },
      "source": [
        ""
      ],
      "execution_count": null,
      "outputs": []
    }
  ]
}