{
  "nbformat": 4,
  "nbformat_minor": 0,
  "metadata": {
    "colab": {
      "name": "25GB - Colab",
      "provenance": [],
      "collapsed_sections": [],
      "machine_shape": "hm",
      "include_colab_link": true
    },
    "kernelspec": {
      "name": "python3",
      "display_name": "Python 3"
    },
    "accelerator": "GPU"
  },
  "cells": [
    {
      "cell_type": "markdown",
      "metadata": {
        "id": "view-in-github",
        "colab_type": "text"
      },
      "source": [
        "<a href=\"https://colab.research.google.com/github/AmbiTyga/73String/blob/main/Data%20Preprocessing.ipynb\" target=\"_parent\"><img src=\"https://colab.research.google.com/assets/colab-badge.svg\" alt=\"Open In Colab\"/></a>"
      ]
    },
    {
      "cell_type": "code",
      "metadata": {
        "id": "W6tcnzlc5v3H",
        "colab": {
          "base_uri": "https://localhost:8080/"
        },
        "outputId": "c31ca216-15a8-47c6-95bb-cc4ca87552ba"
      },
      "source": [
        "import nltk\r\n",
        "nltk.download('stopwords')"
      ],
      "execution_count": 24,
      "outputs": [
        {
          "output_type": "stream",
          "text": [
            "[nltk_data] Downloading package stopwords to /root/nltk_data...\n",
            "[nltk_data]   Package stopwords is already up-to-date!\n"
          ],
          "name": "stdout"
        },
        {
          "output_type": "execute_result",
          "data": {
            "text/plain": [
              "True"
            ]
          },
          "metadata": {
            "tags": []
          },
          "execution_count": 24
        }
      ]
    },
    {
      "cell_type": "code",
      "metadata": {
        "id": "Qb49crQkUaDi"
      },
      "source": [
        "!pip install scrapy -q\r\n",
        "import re\r\n",
        "from tqdm import tqdm\r\n",
        "import pandas as pd\r\n",
        "import numpy as np\r\n",
        "from w3lib.html import remove_tags\r\n",
        "import requests\r\n",
        "from scrapy.selector import Selector\r\n",
        "from nltk.corpus import stopwords\r\n",
        "STOPWORDS = stopwords.words('english')"
      ],
      "execution_count": 25,
      "outputs": []
    },
    {
      "cell_type": "code",
      "metadata": {
        "id": "d5WJg7a2JgHT"
      },
      "source": [
        "import requests\n",
        "\n",
        "def download_file_from_google_drive(id, destination):\n",
        "    URL = \"https://docs.google.com/uc?export=download\"\n",
        "\n",
        "    session = requests.Session()\n",
        "\n",
        "    response = session.get(URL, params = { 'id' : id }, stream = True)\n",
        "    token = get_confirm_token(response)\n",
        "\n",
        "    if token:\n",
        "        params = { 'id' : id, 'confirm' : token }\n",
        "        response = session.get(URL, params = params, stream = True)\n",
        "\n",
        "    save_response_content(response, destination)    \n",
        "\n",
        "def get_confirm_token(response):\n",
        "    for key, value in response.cookies.items():\n",
        "        if key.startswith('download_warning'):\n",
        "            return value\n",
        "\n",
        "    return None\n",
        "def save_response_content(response, destination):\n",
        "    CHUNK_SIZE = 32768\n",
        "\n",
        "    with open(destination, \"wb\") as f:\n",
        "        for chunk in response.iter_content(CHUNK_SIZE):\n",
        "            if chunk: # filter out keep-alive new chunks\n",
        "                f.write(chunk)\n",
        "download_file_from_google_drive('1KfiHaW7Ei31VSmi7gqfSdegTjHB8xuAm', '/content/glove.840B.300d.zip')"
      ],
      "execution_count": 37,
      "outputs": []
    },
    {
      "cell_type": "code",
      "metadata": {
        "id": "2L6eKeFXpBgD",
        "colab": {
          "base_uri": "https://localhost:8080/"
        },
        "outputId": "126d9475-471e-47f3-c600-2d1fbb3022b5"
      },
      "source": [
        "!unzip glove.840B.300d.zip"
      ],
      "execution_count": 38,
      "outputs": [
        {
          "output_type": "stream",
          "text": [
            "Archive:  glove.840B.300d.zip\n",
            "  inflating: glove.840B.300d.txt     \n"
          ],
          "name": "stdout"
        }
      ]
    },
    {
      "cell_type": "markdown",
      "metadata": {
        "id": "G1NQkO9FsBv3"
      },
      "source": [
        "# Preprocessing"
      ]
    },
    {
      "cell_type": "code",
      "metadata": {
        "id": "rgyI2nh54OIZ"
      },
      "source": [
        "import json, operator\r\n",
        "def load_embed(file):\r\n",
        "  '''\r\n",
        "  Loads GLoVe embeddings\r\n",
        "  file -> path to glove embeddings\r\n",
        "  load_embed(...) -> Dict()\r\n",
        "  '''\r\n",
        "  def get_coefs(word,*arr): \r\n",
        "      return word, np.asarray(arr, dtype='float32')\r\n",
        "  \r\n",
        "  if file == '../input/embeddings/wiki-news-300d-1M/wiki-news-300d-1M.vec':\r\n",
        "      embeddings_index = dict(get_coefs(*o.split(\" \")) for o in open(file) if len(o)>100)\r\n",
        "  else:\r\n",
        "      embeddings_index = dict(get_coefs(*o.split(\" \")) for o in open(file, encoding='latin'))\r\n",
        "      \r\n",
        "  return embeddings_index\r\n",
        "  \r\n",
        "def build_vocab(texts):\r\n",
        "  '''\r\n",
        "  Creates a vocabulary from the given corpus\r\n",
        "  texts -> pandas Series object\r\n",
        "  build_vocab(...) -> Dict()\r\n",
        "  '''\r\n",
        "  sentences = texts.str.split().values\r\n",
        "  vocab = {}\r\n",
        "  for sentence in sentences:\r\n",
        "      for word in sentence:\r\n",
        "          try:\r\n",
        "              vocab[word] += 1\r\n",
        "          except KeyError:\r\n",
        "              vocab[word] = 1\r\n",
        "  return vocab\r\n",
        "\r\n",
        "# Checks how many words present in embeddings wrt dataset\r\n",
        "def check_coverage(vocab, embeddings_index):\r\n",
        "  '''\r\n",
        "  Checks the vocabulary from the given corpus with GLoVE data\r\n",
        "  Returns out of vocabulary words from corpus that are not present in GLoVE data\r\n",
        "  '''\r\n",
        "  known_words = {}\r\n",
        "  unknown_words = {}\r\n",
        "  nb_known_words = 0\r\n",
        "  nb_unknown_words = 0\r\n",
        "  for word in vocab.keys():\r\n",
        "      try:\r\n",
        "          known_words[word] = embeddings_index[word]\r\n",
        "          nb_known_words += vocab[word]\r\n",
        "      except:\r\n",
        "          unknown_words[word] = vocab[word]\r\n",
        "          nb_unknown_words += vocab[word]\r\n",
        "          pass\r\n",
        "\r\n",
        "  print('Found embeddings for {:.3%} of vocab'.format(len(known_words) / len(vocab)))\r\n",
        "  print('Found embeddings for  {:.3%} of all text'.format(nb_known_words / (nb_known_words + nb_unknown_words)))\r\n",
        "  unknown_words = sorted(unknown_words.items(), key=operator.itemgetter(1))[::-1]\r\n",
        "  unknown_words = pd.DataFrame(unknown_words,columns=['Word','Count'])\r\n",
        "  return unknown_words"
      ],
      "execution_count": 35,
      "outputs": []
    },
    {
      "cell_type": "code",
      "metadata": {
        "id": "bRxDotBisXLK"
      },
      "source": [
        "def clean(sentence):\r\n",
        "  '''\r\n",
        "  Removes unnecessary characters from the string\r\n",
        "  And replaces the acronyms from business terms\r\n",
        "  sentence -> str\r\n",
        "  clean(...) -> str\r\n",
        "  '''\r\n",
        "  sentence = re.sub(r\"\\bcorp\\b\\.?\",'corporation',sentence,flags = re.I)\r\n",
        "  sentence = re.sub(r\"\\bltd\\b\\.?\",'Limited',sentence,flags = re.I)\r\n",
        "  sentence = re.sub(r\"\\bInc\\b\\.?\",'incorporation',sentence,flags = re.I)\r\n",
        "  sentence = re.sub(r\"\\bco\\b\\.?\",'company',sentence,flags = re.I)\r\n",
        "  sentence = re.sub(r\"\\bs\\.?p\\.?a\\b\\.?\",'sales and purchase agreement',sentence,flags = re.I)\r\n",
        "  sentence = re.sub(r\"\\bASA\\b\\.?\",'Advertising and Selling Association',sentence,flags = re.I)\r\n",
        "  sentence = re.sub(r\"\\bSA\\b\\.?\",'corporation',sentence,flags = re.I)\r\n",
        "  sentence = re.sub(r\"\\bPLC\\b\\.?\",'Public Limited Company',sentence,flags = re.I)\r\n",
        "  sentence = re.sub(r\"\\bAB\\b\\.?\",'Aktiebolag',sentence,flags = re.I)\r\n",
        "  sentence = re.sub(r\"\\bAG\\b\\.?\",'Aktiengesellschaft',sentence,flags = re.I)\r\n",
        "  sentence = re.sub(r\"\\be-\",'electronic ',sentence,flags = re.I)\r\n",
        "  \r\n",
        "  \r\n",
        "  sentence = re.sub(r'(â€™s)',\"'\",sentence,flags = re.I)\r\n",
        "  sentence = re.sub(r'Â',\"\",sentence,flags = re.I)\r\n",
        "  sentence = re.sub(r'\\%',\" percent\",sentence,flags = re.I)\r\n",
        "  sentence = re.sub(r'\\#',\"Number \",sentence,flags = re.I)\r\n",
        "  sentence = re.sub(r'(a-zA-Z0-9)?(\\.)(a-zA-Z0-9)?',' ',sentence,flags = re.I)\r\n",
        "  sentence = re.sub(r'\\b(\\w+)( \\1\\b)+',r'\\1', sentence)\r\n",
        "  \r\n",
        "  \r\n",
        "  sentence = re.sub(r'-',\" \",sentence,flags = re.I)\r\n",
        "  sentence = re.sub(r'[,!?\\'\\:\\(\\)\\/;]','',sentence)\r\n",
        "  sentence = re.sub(r'\\s+',\" \",sentence)\r\n",
        "\r\n",
        "  return sentence\r\n",
        "\r\n",
        "  \r\n",
        "\r\n",
        "def inc_info(keywords):\r\n",
        "  '''\r\n",
        "  The function googles the keywords, and returns the details from Knowledge Graph panel of Google. \r\n",
        "  '''\r\n",
        "  keywords = keywords.replace(\" \",'+')\r\n",
        "  url = f'https://www.google.com/search?&q={keywords}'\r\n",
        "\r\n",
        "  req = requests.get(url,\r\n",
        "                   headers= {'User-agent':'Mozilla/5.0 (Windows NT 10.0; Win64; x64) AppleWebKit/537.36 (KHTML, like Gecko) Chrome/88.0.4324.150 Safari/537.36'})\r\n",
        "  details_with_tags = Selector(text = req.text).css('span.hgKElc').get()\r\n",
        "\r\n",
        "  if not details_with_tags:\r\n",
        "    details_with_tags = Selector(text = req.text).css('div.kno-rdesc span').get()\r\n",
        "\r\n",
        "  if details_with_tags:\r\n",
        "    details = remove_tags(details_with_tags)\r\n",
        "    return details\r\n",
        "\r\n",
        "def change_term(df):\r\n",
        "  name,description = df['Company Name'], df['Short Description']\r\n",
        "  desc = []\r\n",
        "  for i,j in zip(name,description):\r\n",
        "    if i.lower() in j.lower():\r\n",
        "      j = re.sub(r'\\b{name}\\b'.format(name = i),'Company',j,flags = re.I)\r\n",
        "      desc.append(j)\r\n",
        "    else:\r\n",
        "      desc.append(j)\r\n",
        "  return desc"
      ],
      "execution_count": 6,
      "outputs": []
    },
    {
      "cell_type": "code",
      "metadata": {
        "id": "KpxrzNo57T5m"
      },
      "source": [
        "glove = load_embed(\"/content/glove.840B.300d.txt\")"
      ],
      "execution_count": 39,
      "outputs": []
    },
    {
      "cell_type": "markdown",
      "metadata": {
        "id": "I3GH1SkVyqfR"
      },
      "source": [
        "## Loading and Basic Processing"
      ]
    },
    {
      "cell_type": "code",
      "metadata": {
        "id": "mS0a3km_sBeX"
      },
      "source": [
        "train = pd.read_excel(\"/content/Training_Data.01 (1).xlsx\")\r\n",
        "test = pd.read_excel(\"/content/Testing_Data_2_ (1).xlsx\")\r\n",
        "train.drop_duplicates('Business Description',inplace=True,ignore_index=True)\r\n",
        "train['Business Description'].fillna(train[train['Business Description'].isna()]['Company Name'].apply(inc_info),inplace = True)\r\n",
        "train.dropna(inplace = True)\r\n",
        "\r\n",
        "train['Short Description'] = train['Business Description'].apply(clean)\r\n",
        "train['Company Name'] = train['Company Name'].apply(clean)\r\n",
        "\r\n",
        "test['Short Description'] = test['Business Description'].apply(clean)\r\n",
        "test['Company Name'] = test['Company '].apply(clean)"
      ],
      "execution_count": 11,
      "outputs": []
    },
    {
      "cell_type": "markdown",
      "metadata": {
        "id": "bz8wzHt3ynwv"
      },
      "source": [
        "## Train Preprocessing"
      ]
    },
    {
      "cell_type": "code",
      "metadata": {
        "id": "9MqZkdxGIUou"
      },
      "source": [
        "train['Short Description'] = train['Short Description'].apply(lambda x: ' '.join([item for item in x.split() if item not in STOPWORDS]))\r\n",
        "train['Short Description'] = change_term(train)"
      ],
      "execution_count": 12,
      "outputs": []
    },
    {
      "cell_type": "code",
      "metadata": {
        "id": "BYi3sD4AFQ9x"
      },
      "source": [
        "train['Short Description'] = train['Short Description'].apply(lambda x: ' '.join([\"UnkW\" if item not in glove else item for item in x.split()]))\r\n",
        "train['Short Description'] = train['Short Description'].str.replace(r'\\b(\\w+)( \\1\\b)+',r'\\1')\r\n",
        "train['Short Description'] = train['Short Description'].str.replace(r'\\bUnkW\\b','<OOV>')\r\n",
        "train[['Industry Classification Tag','Short Description']].to_csv('train.csv',index = False)"
      ],
      "execution_count": 13,
      "outputs": []
    },
    {
      "cell_type": "code",
      "metadata": {
        "id": "cCRfHhVKykYS"
      },
      "source": [
        ""
      ],
      "execution_count": null,
      "outputs": []
    },
    {
      "cell_type": "markdown",
      "metadata": {
        "id": "pCw3PshZykqb"
      },
      "source": [
        "## Test Preprocessing"
      ]
    },
    {
      "cell_type": "code",
      "metadata": {
        "id": "tMOIvtCW-oG0"
      },
      "source": [
        "test['Short Description'] = test['Short Description'].apply(lambda x: ' '.join([item for item in x.split() if item not in STOPWORDS]))\r\n",
        "test['Short Description'] = change_term(test)"
      ],
      "execution_count": 15,
      "outputs": []
    },
    {
      "cell_type": "code",
      "metadata": {
        "id": "Wj3H421b-oG0"
      },
      "source": [
        "test['Short Description'] = test['Short Description'].apply(lambda x: ' '.join([\"UnkW\" if item not in glove else item for item in x.split()]))\r\n",
        "test['Short Description'] = test['Short Description'].str.replace(r'\\b(\\w+)( \\1\\b)+',r'\\1')\r\n",
        "test['Short Description'] = test['Short Description'].str.replace(r'\\bUnkW\\b','<OOV>')\r\n",
        "test[['Company Name','Short Description']].to_csv('test.csv',index = False)"
      ],
      "execution_count": 16,
      "outputs": []
    },
    {
      "cell_type": "code",
      "metadata": {
        "id": "_brJHmV-54fp",
        "colab": {
          "base_uri": "https://localhost:8080/",
          "height": 282
        },
        "outputId": "a9ed00a7-d656-4fb3-d423-cddcc79bb5be"
      },
      "source": [
        "data['short_words_count'] = data.str.split().apply(lambda x:len(x))\r\n",
        "data['short_words_count'].plot.hist()"
      ],
      "execution_count": 24,
      "outputs": [
        {
          "output_type": "execute_result",
          "data": {
            "text/plain": [
              "<matplotlib.axes._subplots.AxesSubplot at 0x7fa3b4f31780>"
            ]
          },
          "metadata": {
            "tags": []
          },
          "execution_count": 24
        },
        {
          "output_type": "display_data",
          "data": {
            "image/png": "[encoded data removed]",
            "text/plain": [
              "<Figure size 432x288 with 1 Axes>"
            ]
          },
          "metadata": {
            "tags": [],
            "needs_background": "light"
          }
        }
      ]
    },
    {
      "cell_type": "markdown",
      "metadata": {
        "id": "oMfecQyfISKJ"
      },
      "source": [
        "# Building Vocab and embeddings"
      ]
    },
    {
      "cell_type": "code",
      "metadata": {
        "id": "CyW4AvFzIVR4"
      },
      "source": [
        "train = pd.read_csv(\"/content/train.csv\")\r\n",
        "test = pd.read_csv(\"/content/test.csv\")"
      ],
      "execution_count": 9,
      "outputs": []
    },
    {
      "cell_type": "code",
      "metadata": {
        "id": "dEnD3xSzIeK1"
      },
      "source": [
        "# del data\r\n",
        "data = pd.concat([train['Short Description'],\r\n",
        "                  test['Short Description']],ignore_index = True)"
      ],
      "execution_count": 32,
      "outputs": []
    },
    {
      "cell_type": "code",
      "metadata": {
        "id": "0D2LqXiLJDCt"
      },
      "source": [
        "vocab = build_vocab(data)\r\n",
        "embeddings = dict()\r\n",
        "# glove['<OOV>'] = np.random.rand(300)\r\n",
        "for i in vocab:\r\n",
        "  if i !=\"<OOV>\":\r\n",
        "    embeddings[i] = glove[i]"
      ],
      "execution_count": 40,
      "outputs": []
    },
    {
      "cell_type": "code",
      "metadata": {
        "id": "BJJyiYtnKFQV",
        "colab": {
          "base_uri": "https://localhost:8080/"
        },
        "outputId": "f38eed00-4363-49e5-8d44-157b51c8974c"
      },
      "source": [
        "len(embeddings),len(glove)"
      ],
      "execution_count": 41,
      "outputs": [
        {
          "output_type": "execute_result",
          "data": {
            "text/plain": [
              "(38838, 2196016)"
            ]
          },
          "metadata": {
            "tags": []
          },
          "execution_count": 41
        }
      ]
    },
    {
      "cell_type": "code",
      "metadata": {
        "id": "7MYmVqBssXYX"
      },
      "source": [
        ""
      ],
      "execution_count": null,
      "outputs": []
    },
    {
      "cell_type": "markdown",
      "metadata": {
        "id": "SQoZ7OuWsX8K"
      },
      "source": [
        "# Sampling"
      ]
    },
    {
      "cell_type": "code",
      "metadata": {
        "id": "sjb_VxtdsWEx",
        "outputId": "04331082-62b3-4ef7-945b-7e14f136430c",
        "colab": {
          "base_uri": "https://localhost:8080/",
          "height": 419
        }
      },
      "source": [
        "train_tags = [x.sample(n=48).reset_index(drop=True) for _,x in train.groupby('Industry Classification Tag')]\r\n",
        "train_sampled = pd.concat(train_tags,ignore_index = True)\r\n",
        "pd.DataFrame(train_sampled['Industry Classification Tag'].value_counts())"
      ],
      "execution_count": 11,
      "outputs": [
        {
          "output_type": "execute_result",
          "data": {
            "text/html": [
              "<div>\n",
              "<style scoped>\n",
              "    .dataframe tbody tr th:only-of-type {\n",
              "        vertical-align: middle;\n",
              "    }\n",
              "\n",
              "    .dataframe tbody tr th {\n",
              "        vertical-align: top;\n",
              "    }\n",
              "\n",
              "    .dataframe thead th {\n",
              "        text-align: right;\n",
              "    }\n",
              "</style>\n",
              "<table border=\"1\" class=\"dataframe\">\n",
              "  <thead>\n",
              "    <tr style=\"text-align: right;\">\n",
              "      <th></th>\n",
              "      <th>Industry Classification Tag</th>\n",
              "    </tr>\n",
              "  </thead>\n",
              "  <tbody>\n",
              "    <tr>\n",
              "      <th>Pharmaceuticals</th>\n",
              "      <td>48</td>\n",
              "    </tr>\n",
              "    <tr>\n",
              "      <th>Oil &amp; Gas Storage &amp; Transportation</th>\n",
              "      <td>48</td>\n",
              "    </tr>\n",
              "    <tr>\n",
              "      <th>Technology Distributors</th>\n",
              "      <td>48</td>\n",
              "    </tr>\n",
              "    <tr>\n",
              "      <th>Technology Hardware, Storage &amp; Peripherals</th>\n",
              "      <td>48</td>\n",
              "    </tr>\n",
              "    <tr>\n",
              "      <th>Restaurants</th>\n",
              "      <td>48</td>\n",
              "    </tr>\n",
              "    <tr>\n",
              "      <th>...</th>\n",
              "      <td>...</td>\n",
              "    </tr>\n",
              "    <tr>\n",
              "      <th>Building Products</th>\n",
              "      <td>48</td>\n",
              "    </tr>\n",
              "    <tr>\n",
              "      <th>Construction Machinery &amp; Heavy Trucks</th>\n",
              "      <td>48</td>\n",
              "    </tr>\n",
              "    <tr>\n",
              "      <th>Commodity Chemicals</th>\n",
              "      <td>48</td>\n",
              "    </tr>\n",
              "    <tr>\n",
              "      <th>Communications Equipment</th>\n",
              "      <td>48</td>\n",
              "    </tr>\n",
              "    <tr>\n",
              "      <th>Electronic Equipment &amp; Instruments</th>\n",
              "      <td>48</td>\n",
              "    </tr>\n",
              "  </tbody>\n",
              "</table>\n",
              "<p>62 rows × 1 columns</p>\n",
              "</div>"
            ],
            "text/plain": [
              "                                            Industry Classification Tag\n",
              "Pharmaceuticals                                                      48\n",
              "Oil & Gas Storage & Transportation                                   48\n",
              "Technology Distributors                                              48\n",
              "Technology Hardware, Storage & Peripherals                           48\n",
              "Restaurants                                                          48\n",
              "...                                                                 ...\n",
              "Building Products                                                    48\n",
              "Construction Machinery & Heavy Trucks                                48\n",
              "Commodity Chemicals                                                  48\n",
              "Communications Equipment                                             48\n",
              "Electronic Equipment & Instruments                                   48\n",
              "\n",
              "[62 rows x 1 columns]"
            ]
          },
          "metadata": {
            "tags": []
          },
          "execution_count": 11
        }
      ]
    },
    {
      "cell_type": "code",
      "metadata": {
        "id": "REX3hV62sc1B"
      },
      "source": [
        "train_sampled.to_csv('./sampled.csv',index = False)"
      ],
      "execution_count": 12,
      "outputs": []
    }
  ]
}