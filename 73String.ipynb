{
  "nbformat": 4,
  "nbformat_minor": 0,
  "metadata": {
    "colab": {
      "name": "73String",
      "provenance": [],
      "collapsed_sections": [],
      "machine_shape": "hm",
      "include_colab_link": true
    },
    "kernelspec": {
      "name": "python3",
      "display_name": "Python 3"
    }
  },
  "cells": [
    {
      "cell_type": "markdown",
      "metadata": {
        "id": "view-in-github",
        "colab_type": "text"
      },
      "source": [
        "<a href=\"https://colab.research.google.com/github/AmbiTyga/73String/blob/main/73String.ipynb\" target=\"_parent\"><img src=\"https://colab.research.google.com/assets/colab-badge.svg\" alt=\"Open In Colab\"/></a>"
      ]
    },
    {
      "cell_type": "code",
      "metadata": {
        "colab": {
          "base_uri": "https://localhost:8080/"
        },
        "id": "nEd37wkPK63q",
        "outputId": "968149c8-ed86-47c3-e967-4234da1e246c"
      },
      "source": [
        "!pip install scrapy -q"
      ],
      "execution_count": 1,
      "outputs": [
        {
          "output_type": "stream",
          "text": [
            "\u001b[K     |████████████████████████████████| 245kB 10.6MB/s \n",
            "\u001b[K     |████████████████████████████████| 61kB 3.9MB/s \n",
            "\u001b[K     |████████████████████████████████| 3.2MB 38.8MB/s \n",
            "\u001b[K     |████████████████████████████████| 3.2MB 26.5MB/s \n",
            "\u001b[K     |████████████████████████████████| 3.1MB 49.1MB/s \n",
            "\u001b[K     |████████████████████████████████| 245kB 37.1MB/s \n",
            "\u001b[K     |████████████████████████████████| 61kB 4.5MB/s \n",
            "\u001b[K     |████████████████████████████████| 81kB 5.2MB/s \n",
            "\u001b[?25h  Building wheel for protego (setup.py) ... \u001b[?25l\u001b[?25hdone\n",
            "  Building wheel for PyDispatcher (setup.py) ... \u001b[?25l\u001b[?25hdone\n"
          ],
          "name": "stdout"
        }
      ]
    },
    {
      "cell_type": "code",
      "metadata": {
        "id": "yVNNBNQ4DZ5W"
      },
      "source": [
        "import pandas as pd\r\n",
        "import numpy as np\r\n",
        "import os\r\n",
        "import glob\r\n",
        "import matplotlib.pyplot as plt"
      ],
      "execution_count": 2,
      "outputs": []
    },
    {
      "cell_type": "code",
      "metadata": {
        "id": "jphH5XusENy8"
      },
      "source": [
        "data = pd.read_excel('/content/Training_Data.01 (1).xlsx')"
      ],
      "execution_count": 7,
      "outputs": []
    },
    {
      "cell_type": "code",
      "metadata": {
        "colab": {
          "base_uri": "https://localhost:8080/",
          "height": 204
        },
        "id": "4zhFUbHnESWL",
        "outputId": "3f3d6658-44dc-4dc3-946e-41fc78032868"
      },
      "source": [
        "data.head()"
      ],
      "execution_count": 8,
      "outputs": [
        {
          "output_type": "execute_result",
          "data": {
            "text/html": [
              "<div>\n",
              "<style scoped>\n",
              "    .dataframe tbody tr th:only-of-type {\n",
              "        vertical-align: middle;\n",
              "    }\n",
              "\n",
              "    .dataframe tbody tr th {\n",
              "        vertical-align: top;\n",
              "    }\n",
              "\n",
              "    .dataframe thead th {\n",
              "        text-align: right;\n",
              "    }\n",
              "</style>\n",
              "<table border=\"1\" class=\"dataframe\">\n",
              "  <thead>\n",
              "    <tr style=\"text-align: right;\">\n",
              "      <th></th>\n",
              "      <th>Company Name</th>\n",
              "      <th>Business Description</th>\n",
              "      <th>Industry Classification Tag</th>\n",
              "    </tr>\n",
              "  </thead>\n",
              "  <tbody>\n",
              "    <tr>\n",
              "      <th>0</th>\n",
              "      <td>ADSOUTH PARTNERS, INC.</td>\n",
              "      <td>Adsouth Partners, Inc. provides advertising ag...</td>\n",
              "      <td>Advertising</td>\n",
              "    </tr>\n",
              "    <tr>\n",
              "      <th>1</th>\n",
              "      <td>Artec Global Media, Inc.</td>\n",
              "      <td>Artec Global Media, Inc., formerly Artec Consu...</td>\n",
              "      <td>Advertising</td>\n",
              "    </tr>\n",
              "    <tr>\n",
              "      <th>2</th>\n",
              "      <td>Betawave Corp.</td>\n",
              "      <td>Betawave Corporation provides online marketing...</td>\n",
              "      <td>Advertising</td>\n",
              "    </tr>\n",
              "    <tr>\n",
              "      <th>3</th>\n",
              "      <td>BOSTON OMAHA Corp</td>\n",
              "      <td>Boston Omaha Corporation is engaged in the bus...</td>\n",
              "      <td>Advertising</td>\n",
              "    </tr>\n",
              "    <tr>\n",
              "      <th>4</th>\n",
              "      <td>Bright Mountain Media Inc</td>\n",
              "      <td>Bright Mountain Media, Inc. is a digital media...</td>\n",
              "      <td>Advertising</td>\n",
              "    </tr>\n",
              "  </tbody>\n",
              "</table>\n",
              "</div>"
            ],
            "text/plain": [
              "                Company Name  ... Industry Classification Tag\n",
              "0     ADSOUTH PARTNERS, INC.  ...                 Advertising\n",
              "1   Artec Global Media, Inc.  ...                 Advertising\n",
              "2             Betawave Corp.  ...                 Advertising\n",
              "3          BOSTON OMAHA Corp  ...                 Advertising\n",
              "4  Bright Mountain Media Inc  ...                 Advertising\n",
              "\n",
              "[5 rows x 3 columns]"
            ]
          },
          "metadata": {
            "tags": []
          },
          "execution_count": 8
        }
      ]
    },
    {
      "cell_type": "code",
      "metadata": {
        "colab": {
          "base_uri": "https://localhost:8080/"
        },
        "id": "qokGSaXJEcNz",
        "outputId": "2109bcbb-4655-4d75-f89a-f115701463e6"
      },
      "source": [
        "data['Industry Classification Tag'].unique()"
      ],
      "execution_count": 7,
      "outputs": [
        {
          "output_type": "execute_result",
          "data": {
            "text/plain": [
              "array(['Advertising', 'Aerospace & Defense', 'Apparel Retail',\n",
              "       'Apparel, Accessories & Luxury Goods', 'Application Software',\n",
              "       'Asset Management & Custody Banks', 'Auto Parts & Equipment',\n",
              "       'Biotechnology', 'Building Products', 'Casinos & Gaming',\n",
              "       'Commodity Chemicals', 'Communications Equipment',\n",
              "       'Construction & Engineering',\n",
              "       'Construction Machinery & Heavy Trucks', 'Consumer Finance',\n",
              "       'Data Processing & Outsourced Services',\n",
              "       'Diversified Metals & Mining', 'Diversified Support Services',\n",
              "       'Electric Utilities', 'Electrical Components & Equipment',\n",
              "       'Electronic Equipment & Instruments',\n",
              "       'Environmental & Facilities Services', 'Gold',\n",
              "       'Health Care Equipment', 'Health Care Facilities',\n",
              "       'Health Care Services', 'Health Care Supplies',\n",
              "       'Health Care Technology', 'Homebuilding',\n",
              "       'Hotels, Resorts & Cruise Lines',\n",
              "       'Human Resource & Employment Services', 'Industrial Machinery',\n",
              "       'Integrated Telecommunication Services',\n",
              "       'Interactive Media & Services',\n",
              "       'Internet & Direct Marketing Retail',\n",
              "       'Internet Services & Infrastructure',\n",
              "       'Investment Banking & Brokerage', 'IT Consulting & Other Services',\n",
              "       'Leisure Products', 'Life Sciences Tools & Services',\n",
              "       'Movies & Entertainment', 'Oil & Gas Equipment & Services',\n",
              "       'Oil & Gas Exploration & Production',\n",
              "       'Oil & Gas Refining & Marketing',\n",
              "       'Oil & Gas Storage & Transportation', 'Packaged Foods & Meats',\n",
              "       'Personal Products', 'Pharmaceuticals',\n",
              "       'Property & Casualty Insurance', 'Real Estate Operating Companies',\n",
              "       'Regional Banks', 'Research & Consulting Services', 'Restaurants',\n",
              "       'Semiconductors', 'Specialty Chemicals', 'Specialty Stores',\n",
              "       'Steel', 'Systems Software', 'Technology Distributors',\n",
              "       'Technology Hardware, Storage & Peripherals',\n",
              "       'Thrifts & Mortgage Finance', 'Trading Companies & Distributors'],\n",
              "      dtype=object)"
            ]
          },
          "metadata": {
            "tags": []
          },
          "execution_count": 7
        }
      ]
    },
    {
      "cell_type": "code",
      "metadata": {
        "id": "cQ-ZndI5bW4l"
      },
      "source": [
        "from w3lib.html import remove_tags\r\n",
        "import requests\r\n",
        "from scrapy.selector import Selector\r\n",
        "\r\n",
        "def inc_info(keywords):\r\n",
        "  '''\r\n",
        "  The function googles the keywords, and returns the details from Knowledge Graph panel of Google. \r\n",
        "  '''\r\n",
        "  keywords = keywords.replace(\" \",'+')\r\n",
        "  url = f'https://www.google.com/search?&q={keywords}'\r\n",
        "\r\n",
        "  req = requests.get(url,\r\n",
        "                   headers= {'User-agent':'Mozilla/5.0 (Windows NT 10.0; Win64; x64) AppleWebKit/537.36 (KHTML, like Gecko) Chrome/88.0.4324.150 Safari/537.36'})\r\n",
        "  details_with_tags = Selector(text = req.text).css('span.hgKElc').get()\r\n",
        "\r\n",
        "  if not details_with_tags:\r\n",
        "    details_with_tags = Selector(text = req.text).css('div.kno-rdesc span').get()\r\n",
        "\r\n",
        "  if details_with_tags:\r\n",
        "    details = remove_tags(details_with_tags)\r\n",
        "    return details"
      ],
      "execution_count": null,
      "outputs": []
    },
    {
      "cell_type": "code",
      "metadata": {
        "id": "P-4GXuGqaWxb"
      },
      "source": [
        "data['Business Description'].fillna(data[data['Business Description'].isna()]['Company Name'].apply(inc_info),inplace = True)"
      ],
      "execution_count": 24,
      "outputs": []
    },
    {
      "cell_type": "code",
      "metadata": {
        "colab": {
          "base_uri": "https://localhost:8080/"
        },
        "id": "AXGyVs3iF_yD",
        "outputId": "42b09855-dddc-43c6-8ce7-5f18aa9f35bb"
      },
      "source": [
        "data[data['Business Description'].isna()]['Business Description']"
      ],
      "execution_count": 25,
      "outputs": [
        {
          "output_type": "execute_result",
          "data": {
            "text/plain": [
              "1254    None\n",
              "2247    None\n",
              "2288    None\n",
              "2327    None\n",
              "2384    None\n",
              "2423    None\n",
              "2428    None\n",
              "2434    None\n",
              "3512    None\n",
              "Name: Business Description, dtype: object"
            ]
          },
          "metadata": {
            "tags": []
          },
          "execution_count": 25
        }
      ]
    }
  ]
}